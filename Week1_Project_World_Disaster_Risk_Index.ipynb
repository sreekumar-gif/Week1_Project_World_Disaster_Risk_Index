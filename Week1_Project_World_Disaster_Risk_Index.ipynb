{
 "cells": [
  {
   "cell_type": "code",
   "execution_count": 3,
   "id": "404a1bbd",
   "metadata": {},
   "outputs": [],
   "source": [
    "import pandas as pd\n",
    "import numpy as np\n"
   ]
  },
  {
   "cell_type": "code",
   "execution_count": 5,
   "id": "901929d4",
   "metadata": {},
   "outputs": [],
   "source": [
    "df = pd.read_csv(r\"C:\\Users\\sreeh\\Downloads\\world_risk_index.csv\")"
   ]
  },
  {
   "cell_type": "code",
   "execution_count": 6,
   "id": "c3b313d6",
   "metadata": {},
   "outputs": [
    {
     "name": "stdout",
     "output_type": "stream",
     "text": [
      "<class 'pandas.core.frame.DataFrame'>\n",
      "RangeIndex: 1917 entries, 0 to 1916\n",
      "Data columns (total 12 columns):\n",
      " #   Column                        Non-Null Count  Dtype  \n",
      "---  ------                        --------------  -----  \n",
      " 0   Region                        1917 non-null   object \n",
      " 1   WRI                           1917 non-null   float64\n",
      " 2   Exposure                      1917 non-null   float64\n",
      " 3   Vulnerability                 1917 non-null   float64\n",
      " 4   Susceptibility                1917 non-null   float64\n",
      " 5   Lack of Coping Capabilities   1917 non-null   float64\n",
      " 6    Lack of Adaptive Capacities  1916 non-null   float64\n",
      " 7   Year                          1917 non-null   int64  \n",
      " 8   Exposure Category             1917 non-null   object \n",
      " 9   WRI Category                  1916 non-null   object \n",
      " 10  Vulnerability Category        1913 non-null   object \n",
      " 11  Susceptibility Category       1917 non-null   object \n",
      "dtypes: float64(6), int64(1), object(5)\n",
      "memory usage: 179.8+ KB\n",
      "None\n",
      "               WRI     Exposure  Vulnerability  Susceptibility  \\\n",
      "count  1917.000000  1917.000000    1917.000000     1917.000000   \n",
      "mean      7.551763    15.388336      48.075759       30.739431   \n",
      "std       5.553257    10.240135      13.835666       15.667030   \n",
      "min       0.020000     0.050000      14.310000        8.260000   \n",
      "25%       3.740000    10.160000      37.040000       17.790000   \n",
      "50%       6.520000    12.760000      47.100000       25.400000   \n",
      "75%       9.400000    16.450000      60.060000       42.640000   \n",
      "max      56.710000    99.880000      76.470000       70.830000   \n",
      "\n",
      "       Lack of Coping Capabilities   Lack of Adaptive Capacities         Year  \n",
      "count                  1917.000000                   1916.000000  1917.000000  \n",
      "mean                     70.438289                     43.090511  2016.049557  \n",
      "std                      15.038854                     13.551156     3.182045  \n",
      "min                      31.590000                     11.160000  2011.000000  \n",
      "25%                      59.330000                     33.192500  2013.000000  \n",
      "50%                      74.230000                     43.080000  2016.000000  \n",
      "75%                      83.000000                     53.065000  2019.000000  \n",
      "max                      94.360000                     76.110000  2021.000000  \n",
      "Region                          0\n",
      "WRI                             0\n",
      "Exposure                        0\n",
      "Vulnerability                   0\n",
      "Susceptibility                  0\n",
      "Lack of Coping Capabilities     0\n",
      " Lack of Adaptive Capacities    1\n",
      "Year                            0\n",
      "Exposure Category               0\n",
      "WRI Category                    1\n",
      "Vulnerability Category          4\n",
      "Susceptibility Category         0\n",
      "dtype: int64\n"
     ]
    }
   ],
   "source": [
    "print(df.info())\n",
    "print(df.describe())\n",
    "print(df.isnull().sum())\n"
   ]
  }
 ],
 "metadata": {
  "kernelspec": {
   "display_name": ".venv (3.11.9)",
   "language": "python",
   "name": "python3"
  },
  "language_info": {
   "codemirror_mode": {
    "name": "ipython",
    "version": 3
   },
   "file_extension": ".py",
   "mimetype": "text/x-python",
   "name": "python",
   "nbconvert_exporter": "python",
   "pygments_lexer": "ipython3",
   "version": "3.11.9"
  }
 },
 "nbformat": 4,
 "nbformat_minor": 5
}
